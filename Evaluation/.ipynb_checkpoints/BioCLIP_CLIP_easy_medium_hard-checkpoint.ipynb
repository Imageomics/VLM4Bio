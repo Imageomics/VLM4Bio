{
 "cells": [
  {
   "cell_type": "code",
   "execution_count": 1,
   "id": "2e44d91b-fe44-4520-8c88-c8c610af27cf",
   "metadata": {},
   "outputs": [
    {
     "name": "stdout",
     "output_type": "stream",
     "text": [
      "classification_bioclip_selection_num_20_chunk_0.jsonl\n",
      "classification_bioclip_selection_num_20_chunk_1.jsonl\n",
      "classification_bioclip_selection_num_20_chunk_2.jsonl\n",
      "classification_bioclip_selection_num_20_chunk_3.jsonl\n",
      "classification_bioclip_selection_num_20_chunk_4.jsonl\n",
      "classification_bioclip_selection_num_20_chunk_5.jsonl\n",
      "classification_bioclip_selection_num_20_chunk_6.jsonl\n",
      "classification_bioclip_selection_num_20_chunk_7.jsonl\n",
      "classification_bioclip_selection_num_20_chunk_8.jsonl\n",
      "classification_bioclip_selection_num_20_chunk_9.jsonl\n",
      "classification_clip_selection_num_20_chunk_0.jsonl\n",
      "classification_clip_selection_num_20_chunk_1.jsonl\n",
      "classification_clip_selection_num_20_chunk_2.jsonl\n",
      "classification_clip_selection_num_20_chunk_3.jsonl\n",
      "classification_clip_selection_num_20_chunk_4.jsonl\n",
      "classification_clip_selection_num_20_chunk_5.jsonl\n",
      "classification_clip_selection_num_20_chunk_6.jsonl\n",
      "classification_clip_selection_num_20_chunk_7.jsonl\n",
      "classification_clip_selection_num_20_chunk_8.jsonl\n",
      "classification_clip_selection_num_20_chunk_9.jsonl\n"
     ]
    }
   ],
   "source": [
    "! ls /data/VLM4Bio/easy_medium_hard_results/fish-medium/classification/selection"
   ]
  },
  {
   "cell_type": "code",
   "execution_count": 2,
   "id": "765fa727-eabc-4018-bf51-d119ae198f58",
   "metadata": {},
   "outputs": [],
   "source": [
    "import os\n",
    "import numpy as np\n",
    "import json\n",
    "import jsonlines"
   ]
  },
  {
   "cell_type": "code",
   "execution_count": 3,
   "id": "22fb9d1a-395e-46ef-bde8-1b01defbc381",
   "metadata": {},
   "outputs": [],
   "source": [
    "def read_file(filepath):\n",
    "    if os.path.exists(filepath) == False:\n",
    "        print(f'{filepath} not found.')\n",
    "        return []\n",
    "\n",
    "    datalist = []\n",
    "\n",
    "    with open(filepath, \"r\", encoding='utf-8') as fh:\n",
    "        for line in fh.readlines():\n",
    "            dict_ = json.loads(line) \n",
    "                \n",
    "            datalist.append(dict_)\n",
    "\n",
    "    return datalist"
   ]
  },
  {
   "cell_type": "code",
   "execution_count": 4,
   "id": "6f3b42a9-52e1-404f-b48e-1e0f2114d125",
   "metadata": {},
   "outputs": [],
   "source": [
    "type='selection'"
   ]
  },
  {
   "cell_type": "markdown",
   "id": "0d245c90-1a0c-45bc-8d50-0a734e388331",
   "metadata": {},
   "source": [
    "## Fish Evaluation"
   ]
  },
  {
   "cell_type": "code",
   "execution_count": 5,
   "id": "426cb40d-9c74-4713-92d6-35d40bbbdf14",
   "metadata": {},
   "outputs": [],
   "source": [
    "#bioclip"
   ]
  },
  {
   "cell_type": "code",
   "execution_count": 6,
   "id": "3f9ceb8d-1938-4891-92fa-683d2ac94320",
   "metadata": {},
   "outputs": [
    {
     "name": "stdout",
     "output_type": "stream",
     "text": [
      "######### bioclip #########\n",
      "Fish-easy: Accuracy: 55.50%\n",
      "Fish-medium: Accuracy: 29.00%\n"
     ]
    }
   ],
   "source": [
    "print('######### bioclip #########')\n",
    "\n",
    "root_dir = f'/data/VLM4Bio/easy_medium_hard_results/fish-easy/classification/{type}/'\n",
    "datalist = []\n",
    "\n",
    "for chunk_id in range(10):\n",
    "    some_value = 20\n",
    "    filepath = os.path.join(root_dir, f'classification_bioclip_{type}_num_{some_value}_chunk_{chunk_id}.jsonl')\n",
    "    datalist += read_file(filepath)\n",
    "\n",
    "correct_class = 0\n",
    "total_count = 0\n",
    "for data in datalist:\n",
    "    if data['target-class'] == data['output']:\n",
    "        correct_class += 1\n",
    "    total_count += 1\n",
    "\n",
    "print('Fish-easy: Accuracy: {:.2f}%'.format(100*correct_class/total_count))\n",
    "\n",
    "root_dir = f'/data/VLM4Bio/easy_medium_hard_results/fish-medium/classification/{type}/'\n",
    "datalist = []\n",
    "\n",
    "for chunk_id in range(10):\n",
    "    some_value = 20\n",
    "    filepath = os.path.join(root_dir, f'classification_bioclip_{type}_num_{some_value}_chunk_{chunk_id}.jsonl')\n",
    "    datalist += read_file(filepath)\n",
    "\n",
    "correct_class = 0\n",
    "total_count = 0\n",
    "for data in datalist:\n",
    "    if data['target-class'] == data['output']:\n",
    "        correct_class += 1\n",
    "    total_count += 1\n",
    "\n",
    "print('Fish-medium: Accuracy: {:.2f}%'.format(100*correct_class/total_count))"
   ]
  },
  {
   "cell_type": "code",
   "execution_count": 7,
   "id": "1d2819ce-51f6-46e3-b412-a29ae5656466",
   "metadata": {},
   "outputs": [],
   "source": [
    "#clip"
   ]
  },
  {
   "cell_type": "code",
   "execution_count": 8,
   "id": "f5b039fa-3a9b-43bb-b78f-3dade9711a04",
   "metadata": {},
   "outputs": [
    {
     "name": "stdout",
     "output_type": "stream",
     "text": [
      "######### clip #########\n",
      "Fish-easy: Accuracy: 36.50%\n",
      "Fish-medium: Accuracy: 26.00%\n"
     ]
    }
   ],
   "source": [
    "print('######### clip #########')\n",
    "\n",
    "root_dir = f'/data/VLM4Bio/easy_medium_hard_results/fish-easy/classification/{type}/'\n",
    "datalist = []\n",
    "\n",
    "for chunk_id in range(10):\n",
    "    some_value = 20\n",
    "    filepath = os.path.join(root_dir, f'classification_clip_{type}_num_{some_value}_chunk_{chunk_id}.jsonl')\n",
    "    datalist += read_file(filepath)\n",
    "\n",
    "correct_class = 0\n",
    "total_count = 0\n",
    "for data in datalist:\n",
    "    if data['target-class'] == data['output']:\n",
    "        correct_class += 1\n",
    "    total_count += 1\n",
    "\n",
    "print('Fish-easy: Accuracy: {:.2f}%'.format(100*correct_class/total_count))\n",
    "\n",
    "root_dir = f'/data/VLM4Bio/easy_medium_hard_results/fish-medium/classification/{type}/'\n",
    "datalist = []\n",
    "\n",
    "for chunk_id in range(10):\n",
    "    some_value = 20\n",
    "    filepath = os.path.join(root_dir, f'classification_clip_{type}_num_{some_value}_chunk_{chunk_id}.jsonl')\n",
    "    datalist += read_file(filepath)\n",
    "\n",
    "correct_class = 0\n",
    "total_count = 0\n",
    "for data in datalist:\n",
    "    if data['target-class'] == data['output']:\n",
    "        correct_class += 1\n",
    "    total_count += 1\n",
    "\n",
    "print('Fish-medium: Accuracy: {:.2f}%'.format(100*correct_class/total_count))"
   ]
  },
  {
   "cell_type": "code",
   "execution_count": null,
   "id": "c1f10ed4-5429-43d9-b137-bc6e334f7459",
   "metadata": {},
   "outputs": [],
   "source": []
  },
  {
   "cell_type": "markdown",
   "id": "8f5e1aa9-4380-4e2a-9597-d996ecfd36ce",
   "metadata": {},
   "source": [
    "## Bird Evaluation"
   ]
  },
  {
   "cell_type": "code",
   "execution_count": 9,
   "id": "ba82fa89-e1b2-40d1-b644-07690c125ab9",
   "metadata": {},
   "outputs": [
    {
     "name": "stdout",
     "output_type": "stream",
     "text": [
      "######### bioclip #########\n",
      "Bird-easy: Accuracy: 94.00%\n",
      "Bird-medium: Accuracy: 95.00%\n"
     ]
    }
   ],
   "source": [
    "print('######### bioclip #########')\n",
    "\n",
    "root_dir = f'/data/VLM4Bio/easy_medium_hard_results/bird-easy/classification/{type}/'\n",
    "datalist = []\n",
    "\n",
    "for chunk_id in range(10):\n",
    "    some_value = 20\n",
    "    filepath = os.path.join(root_dir, f'classification_bioclip_{type}_num_{some_value}_chunk_{chunk_id}.jsonl')\n",
    "    datalist += read_file(filepath)\n",
    "\n",
    "correct_class = 0\n",
    "total_count = 0\n",
    "for data in datalist:\n",
    "    if data['target-class'] == data['output']:\n",
    "        correct_class += 1\n",
    "    total_count += 1\n",
    "\n",
    "print('Bird-easy: Accuracy: {:.2f}%'.format(100*correct_class/total_count))\n",
    "\n",
    "root_dir = f'/data/VLM4Bio/easy_medium_hard_results/bird-medium/classification/{type}/'\n",
    "datalist = []\n",
    "\n",
    "for chunk_id in range(10):\n",
    "    some_value = 20\n",
    "    filepath = os.path.join(root_dir, f'classification_bioclip_{type}_num_{some_value}_chunk_{chunk_id}.jsonl')\n",
    "    datalist += read_file(filepath)\n",
    "\n",
    "correct_class = 0\n",
    "total_count = 0\n",
    "for data in datalist:\n",
    "    if data['target-class'] == data['output']:\n",
    "        correct_class += 1\n",
    "    total_count += 1\n",
    "\n",
    "print('Bird-medium: Accuracy: {:.2f}%'.format(100*correct_class/total_count))"
   ]
  },
  {
   "cell_type": "code",
   "execution_count": 10,
   "id": "55cbfc80-cd7a-4d55-8ae0-d7c7cab7e371",
   "metadata": {},
   "outputs": [
    {
     "name": "stdout",
     "output_type": "stream",
     "text": [
      "######### clip #########\n",
      "Bird-easy: Accuracy: 57.00%\n",
      "Bird-medium: Accuracy: 31.00%\n"
     ]
    }
   ],
   "source": [
    "print('######### clip #########')\n",
    "\n",
    "root_dir = f'/data/VLM4Bio/easy_medium_hard_results/bird-easy/classification/{type}/'\n",
    "datalist = []\n",
    "\n",
    "for chunk_id in range(10):\n",
    "    some_value = 20\n",
    "    filepath = os.path.join(root_dir, f'classification_clip_{type}_num_{some_value}_chunk_{chunk_id}.jsonl')\n",
    "    datalist += read_file(filepath)\n",
    "\n",
    "correct_class = 0\n",
    "total_count = 0\n",
    "for data in datalist:\n",
    "    if data['target-class'] == data['output']:\n",
    "        correct_class += 1\n",
    "    total_count += 1\n",
    "\n",
    "print('Bird-easy: Accuracy: {:.2f}%'.format(100*correct_class/total_count))\n",
    "\n",
    "root_dir = f'/data/VLM4Bio/easy_medium_hard_results/bird-medium/classification/{type}/'\n",
    "datalist = []\n",
    "\n",
    "for chunk_id in range(10):\n",
    "    some_value = 20\n",
    "    filepath = os.path.join(root_dir, f'classification_clip_{type}_num_{some_value}_chunk_{chunk_id}.jsonl')\n",
    "    datalist += read_file(filepath)\n",
    "\n",
    "correct_class = 0\n",
    "total_count = 0\n",
    "for data in datalist:\n",
    "    if data['target-class'] == data['output']:\n",
    "        correct_class += 1\n",
    "    total_count += 1\n",
    "\n",
    "print('Bird-medium: Accuracy: {:.2f}%'.format(100*correct_class/total_count))"
   ]
  },
  {
   "cell_type": "markdown",
   "id": "6ec1169e-5c68-4163-bca7-1ce1ed57e634",
   "metadata": {},
   "source": [
    "## Butterfly Evaluation"
   ]
  },
  {
   "cell_type": "code",
   "execution_count": 11,
   "id": "6e887b74-55fa-4435-a127-c943f4a30aa0",
   "metadata": {},
   "outputs": [
    {
     "name": "stdout",
     "output_type": "stream",
     "text": [
      "######### bioclip #########\n",
      "Butterfly-easy: Accuracy: 65.50%\n",
      "Butterfly-medium: Accuracy: 58.00%\n",
      "Butterfly-hard: Accuracy: 33.50%\n"
     ]
    }
   ],
   "source": [
    "print('######### bioclip #########')\n",
    "\n",
    "root_dir = f'/data/VLM4Bio/easy_medium_hard_results/butterfly-easy/classification/{type}/'\n",
    "datalist = []\n",
    "\n",
    "for chunk_id in range(10):\n",
    "    some_value = 20\n",
    "    filepath = os.path.join(root_dir, f'classification_bioclip_{type}_num_{some_value}_chunk_{chunk_id}.jsonl')\n",
    "    datalist += read_file(filepath)\n",
    "\n",
    "correct_class = 0\n",
    "total_count = 0\n",
    "for data in datalist:\n",
    "    if data['target-class'] == data['output']:\n",
    "        correct_class += 1\n",
    "    total_count += 1\n",
    "\n",
    "print('Butterfly-easy: Accuracy: {:.2f}%'.format(100*correct_class/total_count))\n",
    "\n",
    "root_dir = f'/data/VLM4Bio/easy_medium_hard_results/butterfly-medium/classification/{type}/'\n",
    "datalist = []\n",
    "\n",
    "for chunk_id in range(10):\n",
    "    some_value = 20\n",
    "    filepath = os.path.join(root_dir, f'classification_bioclip_{type}_num_{some_value}_chunk_{chunk_id}.jsonl')\n",
    "    datalist += read_file(filepath)\n",
    "\n",
    "correct_class = 0\n",
    "total_count = 0\n",
    "for data in datalist:\n",
    "    if data['target-class'] == data['output']:\n",
    "        correct_class += 1\n",
    "    total_count += 1\n",
    "\n",
    "print('Butterfly-medium: Accuracy: {:.2f}%'.format(100*correct_class/total_count))\n",
    "\n",
    "root_dir = f'/data/VLM4Bio/easy_medium_hard_results/butterfly-hard/classification/{type}/'\n",
    "datalist = []\n",
    "\n",
    "for chunk_id in range(10):\n",
    "    some_value = 20\n",
    "    filepath = os.path.join(root_dir, f'classification_bioclip_{type}_num_{some_value}_chunk_{chunk_id}.jsonl')\n",
    "    datalist += read_file(filepath)\n",
    "\n",
    "correct_class = 0\n",
    "total_count = 0\n",
    "for data in datalist:\n",
    "    if data['target-class'] == data['output']:\n",
    "        correct_class += 1\n",
    "    total_count += 1\n",
    "\n",
    "print('Butterfly-hard: Accuracy: {:.2f}%'.format(100*correct_class/total_count))"
   ]
  },
  {
   "cell_type": "code",
   "execution_count": 12,
   "id": "957553b0-0d3f-4409-a3fb-e3e300b13850",
   "metadata": {},
   "outputs": [
    {
     "name": "stdout",
     "output_type": "stream",
     "text": [
      "######### clip #########\n",
      "Butterfly-easy: Accuracy: 21.50%\n",
      "Butterfly-medium: Accuracy: 21.50%\n",
      "Butterfly-hard: Accuracy: 21.50%\n"
     ]
    }
   ],
   "source": [
    "print('######### clip #########')\n",
    "\n",
    "root_dir = f'/data/VLM4Bio/easy_medium_hard_results/butterfly-easy/classification/{type}/'\n",
    "datalist = []\n",
    "\n",
    "for chunk_id in range(10):\n",
    "    some_value = 20\n",
    "    filepath = os.path.join(root_dir, f'classification_clip_{type}_num_{some_value}_chunk_{chunk_id}.jsonl')\n",
    "    datalist += read_file(filepath)\n",
    "\n",
    "correct_class = 0\n",
    "total_count = 0\n",
    "for data in datalist:\n",
    "    if data['target-class'] == data['output']:\n",
    "        correct_class += 1\n",
    "    total_count += 1\n",
    "\n",
    "print('Butterfly-easy: Accuracy: {:.2f}%'.format(100*correct_class/total_count))\n",
    "\n",
    "root_dir = f'/data/VLM4Bio/easy_medium_hard_results/butterfly-medium/classification/{type}/'\n",
    "datalist = []\n",
    "\n",
    "for chunk_id in range(10):\n",
    "    some_value = 20\n",
    "    filepath = os.path.join(root_dir, f'classification_clip_{type}_num_{some_value}_chunk_{chunk_id}.jsonl')\n",
    "    datalist += read_file(filepath)\n",
    "\n",
    "correct_class = 0\n",
    "total_count = 0\n",
    "for data in datalist:\n",
    "    if data['target-class'] == data['output']:\n",
    "        correct_class += 1\n",
    "    total_count += 1\n",
    "\n",
    "print('Butterfly-medium: Accuracy: {:.2f}%'.format(100*correct_class/total_count))\n",
    "\n",
    "root_dir = f'/data/VLM4Bio/easy_medium_hard_results/butterfly-hard/classification/{type}/'\n",
    "datalist = []\n",
    "\n",
    "for chunk_id in range(10):\n",
    "    some_value = 20\n",
    "    filepath = os.path.join(root_dir, f'classification_clip_{type}_num_{some_value}_chunk_{chunk_id}.jsonl')\n",
    "    datalist += read_file(filepath)\n",
    "\n",
    "correct_class = 0\n",
    "total_count = 0\n",
    "for data in datalist:\n",
    "    if data['target-class'] == data['output']:\n",
    "        correct_class += 1\n",
    "    total_count += 1\n",
    "\n",
    "print('Butterfly-hard: Accuracy: {:.2f}%'.format(100*correct_class/total_count))"
   ]
  }
 ],
 "metadata": {
  "kernelspec": {
   "display_name": "env",
   "language": "python",
   "name": "env"
  },
  "language_info": {
   "codemirror_mode": {
    "name": "ipython",
    "version": 3
   },
   "file_extension": ".py",
   "mimetype": "text/x-python",
   "name": "python",
   "nbconvert_exporter": "python",
   "pygments_lexer": "ipython3",
   "version": "3.9.18"
  }
 },
 "nbformat": 4,
 "nbformat_minor": 5
}
